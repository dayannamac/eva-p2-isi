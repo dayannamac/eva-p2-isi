{
 "cells": [
  {
   "cell_type": "markdown",
   "id": "ea156bc4-82a0-4f3a-b6b6-30acee658b47",
   "metadata": {},
   "source": [
    "### Desarrollar un cuaderno de Python mediante Jupyter que permita usar técnicas de web scraping para obtener el nombre y cantidad de satélites naturales de los planetas enanos presentes en las tablas del sitio: https://es.wikipedia.org/wiki/Planetas_del_sistema_solar"
   ]
  },
  {
   "cell_type": "code",
   "execution_count": 1,
   "id": "cd71774a-34a2-49ff-8ab0-ecd78d942f70",
   "metadata": {},
   "outputs": [],
   "source": [
    "from bs4 import BeautifulSoup\n",
    "import requests"
   ]
  },
  {
   "cell_type": "code",
   "execution_count": 2,
   "id": "19119113-ce7d-4bef-8149-6fceb64a7eb4",
   "metadata": {},
   "outputs": [],
   "source": [
    "url = \"https://es.wikipedia.org/wiki/Planetas_del_sistema_solar\"\n",
    "pagina = requests.get(url)\n",
    "soup = BeautifulSoup(pagina.text, \"html.parser\")"
   ]
  },
  {
   "cell_type": "code",
   "execution_count": 3,
   "id": "152beecd-d468-4b7e-a1c3-190394f965ae",
   "metadata": {},
   "outputs": [
    {
     "name": "stdout",
     "output_type": "stream",
     "text": [
      "Planeta enano: Ceres\n",
      "\n",
      "Satélites naturales: 0\n",
      "\n",
      "\n",
      "Planeta enano: Plutón\n",
      "\n",
      "Satélites naturales: 5\n",
      "\n",
      "\n",
      "Planeta enano: Haumea\n",
      "\n",
      "Satélites naturales: 2\n",
      "\n",
      "\n",
      "Planeta enano: Makemake\n",
      "\n",
      "Satélites naturales: 1\n",
      "\n",
      "\n",
      "Planeta enano: Eris\n",
      "\n",
      "Satélites naturales: 1\n",
      "\n",
      "\n"
     ]
    }
   ],
   "source": [
    "tablas = soup.find_all(\"table\")\n",
    "tabla3 = tablas[3]\n",
    "\n",
    "for fila in tabla3.find_all(\"tr\"):\n",
    "    celdas = fila.find_all(\"td\")\n",
    "    \n",
    "    if len(celdas)>0:\n",
    "        primera_celda = celdas[0].get_text()\n",
    "        octava_celda = celdas[7].get_text()\n",
    "        print(\"Planeta enano: \" + primera_celda) \n",
    "        print(\"Satélites naturales: \" + octava_celda)\n",
    "        print(\"\")"
   ]
  }
 ],
 "metadata": {
  "kernelspec": {
   "display_name": "Python 3 (ipykernel)",
   "language": "python",
   "name": "python3"
  },
  "language_info": {
   "codemirror_mode": {
    "name": "ipython",
    "version": 3
   },
   "file_extension": ".py",
   "mimetype": "text/x-python",
   "name": "python",
   "nbconvert_exporter": "python",
   "pygments_lexer": "ipython3",
   "version": "3.12.1"
  }
 },
 "nbformat": 4,
 "nbformat_minor": 5
}
